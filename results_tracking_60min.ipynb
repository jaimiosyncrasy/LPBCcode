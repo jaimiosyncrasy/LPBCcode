{
 "cells": [
  {
   "cell_type": "markdown",
   "metadata": {},
   "source": [
    "# Results Tracking Tool (for 60-min timeframe)"
   ]
  },
  {
   "cell_type": "code",
   "execution_count": 8,
   "metadata": {
    "collapsed": true
   },
   "outputs": [],
   "source": [
    "import numpy as np, pandas as pd, scipy.io as sp, matplotlib.pyplot as plt, matplotlib.style as style\n",
    "import matplotlib.backends.backend_pdf\n",
    "style.use('fivethirtyeight')\n",
    "from statistics import mean\n",
    "from pathlib import Path\n",
    "import csv\n",
    "\n",
    "%matplotlib inline\n",
    "%config InlineBackend.figure_format ='retina'"
   ]
  },
  {
   "cell_type": "markdown",
   "metadata": {},
   "source": [
    "### The code block below reads a given init file and obtains the relevant test number. If you don't have an init file yet, comment this block and input your .mat filename in the code block right after."
   ]
  },
  {
   "cell_type": "code",
   "execution_count": 9,
   "metadata": {
    "collapsed": true
   },
   "outputs": [],
   "source": [
    "with open('init.csv',encoding='utf-8-sig') as input_file:\n",
    "    readCSV = csv.reader(input_file, delimiter=',')   \n",
    "    for row in readCSV:   # Takes the integer from the csv and forms the relevant filename.\n",
    "        if int(row[0],10) < 10:\n",
    "            sim_number = \"simData_00\"  + row[0] \n",
    "        if int(row[0],10) >= 10 and int(row[0],10) < 100:\n",
    "            sim_number = \"simData_\" + \"0\" + row[0]\n",
    "        if int(row[0],10) >= 100:\n",
    "            sim_number = \"simData_\" + row[0]\n",
    "            \n",
    "test_number = row[0]\n",
    "sim_pdf = matplotlib.backends.backend_pdf.PdfPages(sim_number + \"_TEST\" \".pdf\") # Creating PDF here\n",
    "mat_file = sp.loadmat(sim_number + \".mat\") # loading the relevant .mat file"
   ]
  },
  {
   "cell_type": "code",
   "execution_count": 11,
   "metadata": {
    "collapsed": true
   },
   "outputs": [],
   "source": [
    "# sim_number = \"sim1_1_way1\"  #CHANGE FILENAME HERE!\n",
    "# sim_pdf = matplotlib.backends.backend_pdf.PdfPages(sim_number + \"_TEST\" \".pdf\") # Creating PDF here\n",
    "\n",
    "\n",
    "# mat_file = sp.loadmat(sim_number + \".mat\") # loading the relevant .mat file"
   ]
  },
  {
   "cell_type": "code",
   "execution_count": 12,
   "metadata": {
    "collapsed": true
   },
   "outputs": [],
   "source": [
    "sim_volmag_vals = mat_file['vmag_new']\n",
    "sim_volang_vals = mat_file['vang_new']\n",
    "sim_realpwr_vals = mat_file['pnew']\n",
    "sim_reactivepwr_vals = mat_file['qnew']\n",
    "sim_volmag_ref = mat_file['vmag_ref']\n",
    "sim_volang_ref = mat_file['vang_ref']"
   ]
  },
  {
   "cell_type": "code",
   "execution_count": 13,
   "metadata": {
    "collapsed": true,
    "scrolled": false
   },
   "outputs": [],
   "source": [
    "sim_vol_A_list, sim_vol_B_list, sim_vol_C_list = ([] for i in range(3))\n",
    "sim_ang_A_list, sim_ang_B_list, sim_ang_C_list = ([] for i in range(3))\n",
    "sim_realpwr_A_list, sim_realpwr_B_list, sim_realpwr_C_list = ([] for i in range(3))\n",
    "sim_reactivepwr_A_list, sim_reactivepwr_B_list, sim_reactivepwr_C_list = ([] for i in range(3))\n",
    "sim_vol_A_reflist, sim_vol_B_reflist, sim_vol_C_reflist = ([] for i in range(3))\n",
    "sim_ang_A_reflist, sim_ang_B_reflist, sim_ang_C_reflist = ([] for i in range(3))\n",
    "\n",
    "refpoints = []\n",
    "\n",
    "\n",
    "for i in range(0,sim_volmag_vals.size//3):\n",
    "    sim_vol_A_list.append((sim_volmag_vals[i][0])),sim_vol_B_list.append((sim_volmag_vals[i][1])),sim_vol_C_list.append((sim_volmag_vals[i][2]))\n",
    "    sim_ang_A_list.append((sim_volang_vals[i][0])),sim_ang_B_list.append((sim_volang_vals[i][1])),sim_ang_C_list.append((sim_volang_vals[i][2]))\n",
    "    sim_realpwr_A_list.append((sim_realpwr_vals[i][0])),sim_realpwr_B_list.append((sim_realpwr_vals[i][1])),sim_realpwr_C_list.append((sim_realpwr_vals[i][2]))\n",
    "    sim_reactivepwr_A_list.append((sim_reactivepwr_vals[i][0])),sim_reactivepwr_B_list.append((sim_reactivepwr_vals[i][1])),sim_reactivepwr_C_list.append((sim_reactivepwr_vals[i][2]))\n",
    "\n",
    "        \n",
    "        \n",
    "for i in range(0,sim_volmag_ref.size//4):\n",
    "    sim_vol_A_reflist.append((sim_volmag_ref[i][1])),sim_vol_B_reflist.append((sim_volmag_ref[i][2])),sim_vol_C_reflist.append((sim_volmag_ref[i][3]))\n",
    "    refpoints.append((sim_volmag_ref[i][0]))\n",
    "    sim_ang_A_reflist.append((sim_volang_ref[i][1])),sim_ang_B_reflist.append((sim_volang_ref[i][2])),sim_ang_C_reflist.append((sim_volang_ref[i][3]))"
   ]
  },
  {
   "cell_type": "code",
   "execution_count": 25,
   "metadata": {},
   "outputs": [],
   "source": [
    "#len(refpoints)  #sanity check"
   ]
  },
  {
   "cell_type": "markdown",
   "metadata": {},
   "source": [
    "# The time values below were chosen arbitrarily. Please change the index values in the code blocks below to adjust for the timeframe you are looking at."
   ]
  },
  {
   "cell_type": "markdown",
   "metadata": {},
   "source": [
    "## Voltage Magnitudes from 9 to 9:05 AM"
   ]
  },
  {
   "cell_type": "code",
   "execution_count": 23,
   "metadata": {
    "collapsed": true
   },
   "outputs": [],
   "source": [
    "#graph V_mag over time\n",
    "\n",
    "plt.plot(sim_vol_A_list[:301])\n",
    "plt.plot(sim_vol_B_list[:301])\n",
    "plt.plot(sim_vol_C_list[:301])\n",
    "plt.step(refpoints[:11], sim_vol_A_reflist[:11],color = 'C0',linestyle = '--',linewidth = 2.5)\n",
    "plt.step(refpoints[:11], sim_vol_B_reflist[:11],color = 'C1',linestyle = '--',linewidth = 2.5)\n",
    "plt.step(refpoints[:11], sim_vol_C_reflist[:11],color = 'C2',linestyle = '--',linewidth = 2.5)\n",
    "\n",
    "plt.ylabel('Voltage Magnitude (p.u.)',fontsize = 16)\n",
    "plt.xlabel('Seconds elapsed since 9:00:00',fontsize = 16)\n",
    "plt.title(sim_number + ' Voltage Magnitude from 9:00 AM to 9:05AM', fontsize = 20)\n",
    "plt.gcf().set_size_inches(16, 8)\n",
    "plt.legend(['Phase A', 'Phase B', 'Phase C'], loc='best', prop={'size': 12})\n",
    "\n",
    "\n",
    "sim_pdf.savefig()\n",
    "\n",
    "plt.close()\n",
    "#plt.show()"
   ]
  },
  {
   "cell_type": "markdown",
   "metadata": {},
   "source": [
    "## Voltage Magnitudes from 12 to 12:05 PM"
   ]
  },
  {
   "cell_type": "code",
   "execution_count": 16,
   "metadata": {
    "collapsed": true,
    "scrolled": true
   },
   "outputs": [],
   "source": [
    "#graph V_mag over time\n",
    "plt.plot(sim_vol_A_list[301:601]) #Filler values\n",
    "plt.plot(sim_vol_B_list[301:601])\n",
    "plt.plot(sim_vol_C_list[301:601])\n",
    "\n",
    "plt.step(refpoints[:11], sim_vol_A_reflist[10:21],color = 'C0',linestyle = '--',linewidth = 2.5)\n",
    "plt.step(refpoints[:11], sim_vol_B_reflist[10:21],color = 'C1',linestyle = '--',linewidth = 2.5)\n",
    "plt.step(refpoints[:11], sim_vol_C_reflist[10:21],color = 'C2',linestyle = '--',linewidth = 2.5)\n",
    "\n",
    "plt.ylabel('Voltage Magnitude (p.u.)',fontsize = 16)\n",
    "plt.xlabel('Seconds elapsed since 12:00:00',fontsize = 16)\n",
    "plt.title(sim_number + ' Voltage Magnitude from 12:00 PM to 12:05PM', fontsize = 20)\n",
    "#plt.ylim(bottom = 0.90,top=1.08)\n",
    "plt.gcf().set_size_inches(16, 8)\n",
    "plt.legend(['Phase A', 'Phase B', 'Phase C'], loc='best', prop={'size': 12})\n",
    "\n",
    "#plt.savefig('Vmag_12PM.png', dpi=100)\n",
    "sim_pdf.savefig()\n",
    "plt.close()\n",
    "#plt.show()"
   ]
  },
  {
   "cell_type": "markdown",
   "metadata": {},
   "source": [
    "## Voltage Magnitudes from 5 to 5:05 PM"
   ]
  },
  {
   "cell_type": "code",
   "execution_count": 17,
   "metadata": {
    "collapsed": true
   },
   "outputs": [],
   "source": [
    "#graph V_mag over time\n",
    "plt.plot(sim_vol_A_list[3301:3601]) #Filler values\n",
    "plt.plot(sim_vol_B_list[3301:3601])\n",
    "plt.plot(sim_vol_C_list[3301:3601])\n",
    "\n",
    "plt.step(refpoints[:11], sim_vol_A_reflist[110:121],color = 'C0',linestyle = '--',linewidth = 2.5)\n",
    "plt.step(refpoints[:11], sim_vol_B_reflist[110:121],color = 'C1',linestyle = '--',linewidth = 2.5)\n",
    "plt.step(refpoints[:11], sim_vol_C_reflist[110:121],color = 'C2',linestyle = '--',linewidth = 2.5)\n",
    "\n",
    "\n",
    "plt.ylabel('Voltage Magnitude (p.u.)',fontsize = 16)\n",
    "plt.xlabel('Seconds elapsed since 17:00:00',fontsize = 16)\n",
    "plt.title(sim_number + ' Voltage Magnitude from 5:00 PM to 5:05PM', fontsize = 20)\n",
    "#plt.ylim(bottom = 0.92,top=1.08)\n",
    "plt.gcf().set_size_inches(16, 8)\n",
    "plt.legend(['Phase A', 'Phase B', 'Phase C', 'Reference voltage'], loc='best', prop={'size': 12})\n",
    "\n",
    "sim_pdf.savefig()\n",
    "plt.close()\n",
    "#plt.show()"
   ]
  },
  {
   "cell_type": "markdown",
   "metadata": {},
   "source": [
    "## Voltage Angles from 9 to 9:05 AM"
   ]
  },
  {
   "cell_type": "code",
   "execution_count": 18,
   "metadata": {
    "collapsed": true
   },
   "outputs": [],
   "source": [
    "f, (ax, ax2, ax3) = plt.subplots(3, 1, sharex=True,figsize=(16,8))\n",
    "\n",
    "ax.plot(sim_ang_A_list[:301])\n",
    "ax.step(refpoints[:11], sim_ang_A_reflist[:11],color = 'C0',linestyle = '--',linewidth = 2.5)\n",
    "\n",
    "ax2.plot(sim_ang_B_list[:301], color = 'C1')\n",
    "ax2.step(refpoints[:11], sim_ang_B_reflist[:11],color = 'C1',linestyle = '--',linewidth = 2.5)\n",
    "\n",
    "ax3.plot(sim_ang_C_list[:301], color = 'C2')\n",
    "ax3.step(refpoints[:11], sim_ang_C_reflist[:11],color = 'C2',linestyle = '--',linewidth = 2.5)\n",
    "\n",
    "ax.set_ylim(-7,7),ax2.set_ylim(-127,-113),ax3.set_ylim(113,127)\n",
    "\n",
    "\n",
    "ax.set_title(sim_number + ' Voltage Angle from 9:00AM to 9:05AM',fontsize = 20)\n",
    "ax3.set_xlabel('Seconds elapsed since 9:00:00',fontsize = 18)\n",
    "ax.set_ylabel('Voltage Angle (Deg)'),ax2.set_ylabel('Voltage Angle (Deg)'),ax3.set_ylabel('Voltage Angle (Deg)')\n",
    "ax.legend(['Phase A'], loc='best', prop={'size': 12}),ax2.legend(['Phase B'], loc='best', prop={'size': 12}),ax3.legend(['Phase C'], loc='best', prop={'size': 12}) \n",
    "\n",
    "sim_pdf.savefig()\n",
    "plt.close()\n",
    "#plt.show()"
   ]
  },
  {
   "cell_type": "markdown",
   "metadata": {},
   "source": [
    "## Voltage Angles from 12 to 12:05 PM"
   ]
  },
  {
   "cell_type": "code",
   "execution_count": 19,
   "metadata": {
    "collapsed": true
   },
   "outputs": [],
   "source": [
    "f, (ax, ax2, ax3) = plt.subplots(3, 1, sharex=True,figsize=(16,8))\n",
    "\n",
    "ax.plot(sim_ang_A_list[301:601])\n",
    "ax.step(refpoints[:11], sim_ang_A_reflist[10:21],color = 'C0',linestyle = '--',linewidth = 2.5)\n",
    "\n",
    "ax2.plot(sim_ang_B_list[301:601], color = 'C1')\n",
    "ax2.step(refpoints[:11], sim_ang_B_reflist[10:21],color = 'C1',linestyle = '--',linewidth = 2.5)\n",
    "\n",
    "ax3.plot(sim_ang_C_list[301:601], color = 'C2')\n",
    "ax3.step(refpoints[:11], sim_ang_C_reflist[10:21],color = 'C2',linestyle = '--',linewidth = 2.5)\n",
    "\n",
    "ax.set_ylim(-7,7),ax2.set_ylim(-127,-113),ax3.set_ylim(113,127)\n",
    "\n",
    "\n",
    "ax.set_title(sim_number + ' Voltage Angle from 12:00PM to 12:05PM',fontsize = 20)\n",
    "ax3.set_xlabel('Seconds elapsed since 12:00:00',fontsize = 18)\n",
    "ax.set_ylabel('Voltage Angle (Deg)'),ax2.set_ylabel('Voltage Angle (Deg)'),ax3.set_ylabel('Voltage Angle (Deg)')\n",
    "ax.legend(['Phase A'], loc='best', prop={'size': 12}),ax2.legend(['Phase B'], loc='best', prop={'size': 12}),ax3.legend(['Phase C'], loc='best', prop={'size': 12}) \n",
    "\n",
    "sim_pdf.savefig()\n",
    "plt.close()\n",
    "#plt.show()"
   ]
  },
  {
   "cell_type": "markdown",
   "metadata": {},
   "source": [
    "## Voltage Angles from 5 to 5:05 PM"
   ]
  },
  {
   "cell_type": "code",
   "execution_count": 20,
   "metadata": {
    "collapsed": true
   },
   "outputs": [],
   "source": [
    "f, (ax, ax2, ax3) = plt.subplots(3, 1, sharex=True,figsize=(16,8))\n",
    "\n",
    "ax.plot(sim_ang_A_list[3301:3601])\n",
    "ax.step(refpoints[:11], sim_ang_A_reflist[110:121],color = 'C0',linestyle = '--',linewidth = 2.5)\n",
    "\n",
    "ax2.plot(sim_ang_B_list[3301:3601], color = 'C1')\n",
    "ax2.step(refpoints[:11], sim_ang_B_reflist[110:121],color = 'C1',linestyle = '--',linewidth = 2.5)\n",
    "\n",
    "ax3.plot(sim_ang_C_list[3301:3601], color = 'C2')\n",
    "ax3.step(refpoints[:11], sim_ang_C_reflist[110:121],color = 'C2',linestyle = '--',linewidth = 2.5)\n",
    "\n",
    "ax.set_ylim(-7,7),ax2.set_ylim(-127,-113),ax3.set_ylim(113,127)\n",
    "\n",
    "\n",
    "ax.set_title(sim_number + ' Voltage Angle from 5:00PM to 5:05PM',fontsize = 20)\n",
    "ax3.set_xlabel('Seconds elapsed since 17:00:00',fontsize = 18)\n",
    "ax.set_ylabel('Voltage Angle (Deg)'),ax2.set_ylabel('Voltage Angle (Deg)'),ax3.set_ylabel('Voltage Angle (Deg)')\n",
    "ax.legend(['Phase A'], loc='best', prop={'size': 12}),ax2.legend(['Phase B'], loc='best', prop={'size': 12}),ax3.legend(['Phase C'], loc='best', prop={'size': 12}) \n",
    "\n",
    "sim_pdf.savefig()\n",
    "plt.close()\n",
    "#plt.show()"
   ]
  },
  {
   "cell_type": "markdown",
   "metadata": {},
   "source": [
    "## Real Power from 9 to 9:05 AM"
   ]
  },
  {
   "cell_type": "code",
   "execution_count": 305,
   "metadata": {
    "collapsed": true
   },
   "outputs": [],
   "source": [
    "#graph Power over time\n",
    "plt.plot(sim_realpwr_A_list[:301])\n",
    "plt.plot(sim_realpwr_B_list[:301])\n",
    "plt.plot(sim_realpwr_C_list[:301])\n",
    "plt.ylabel('Real Power (p.u.)',fontsize = 16)\n",
    "plt.xlabel('Seconds elapsed since 9:00:00',fontsize = 16)\n",
    "plt.title(sim_number + ' Real Power from 9:00 AM to 9:05AM', fontsize = 20)\n",
    "plt.gcf().set_size_inches(16, 8)\n",
    "plt.legend(['Phase A', 'Phase B', 'Phase C'], loc='best', prop={'size': 12}) \n",
    "\n",
    "#plt.savefig('RealPower_9AM.png', dpi=100)\n",
    "sim_pdf.savefig()\n",
    "plt.close()\n",
    "#plt.show()"
   ]
  },
  {
   "cell_type": "markdown",
   "metadata": {},
   "source": [
    "## Real Power from 12 to 12:05 PM"
   ]
  },
  {
   "cell_type": "code",
   "execution_count": 306,
   "metadata": {
    "collapsed": true
   },
   "outputs": [],
   "source": [
    "plt.plot(sim_realpwr_A_list[301:601])\n",
    "plt.plot(sim_realpwr_B_list[301:601])\n",
    "plt.plot(sim_realpwr_C_list[301:601])\n",
    "plt.ylabel('Real Power (p.u.)',fontsize = 16)\n",
    "plt.xlabel('Seconds elapsed since 12:00:00',fontsize = 16)\n",
    "plt.title(sim_number + ' Real Power from 12:00 PM to 12:05PM', fontsize = 20)\n",
    "plt.gcf().set_size_inches(16, 8)\n",
    "plt.legend(['Phase A', 'Phase B', 'Phase C'], loc='best', prop={'size': 12}) #CHANGE LEGEND LOCATION\n",
    "\n",
    "#plt.savefig('RealPower_12PM.png', dpi=100)\n",
    "sim_pdf.savefig()\n",
    "plt.close()\n",
    "#plt.show()"
   ]
  },
  {
   "cell_type": "markdown",
   "metadata": {},
   "source": [
    "## Real Power from 5 to 5:05 PM"
   ]
  },
  {
   "cell_type": "code",
   "execution_count": 307,
   "metadata": {
    "collapsed": true
   },
   "outputs": [],
   "source": [
    "plt.plot(sim_realpwr_A_list[3301:3601])\n",
    "plt.plot(sim_realpwr_B_list[3301:3601])\n",
    "plt.plot(sim_realpwr_C_list[3301:3601])\n",
    "plt.ylabel('Real Power (p.u.)',fontsize = 16)\n",
    "plt.xlabel('Seconds elapsed since 17:00:00',fontsize = 16)\n",
    "plt.title(sim_number + ' Real Power from 5:00 PM to 5:05PM', fontsize = 20)\n",
    "plt.gcf().set_size_inches(16, 8)\n",
    "plt.legend(['Phase A', 'Phase B', 'Phase C'], loc='best', prop={'size': 12}) #CHANGE LEGEND LOCATION\n",
    "\n",
    "#plt.savefig('RealPower_5PM.png', dpi=100)\n",
    "sim_pdf.savefig()\n",
    "plt.close()\n",
    "#plt.show()"
   ]
  },
  {
   "cell_type": "markdown",
   "metadata": {},
   "source": [
    "## Reactive Power from 9 to 9:05 AM"
   ]
  },
  {
   "cell_type": "code",
   "execution_count": 308,
   "metadata": {
    "collapsed": true
   },
   "outputs": [],
   "source": [
    "plt.plot(sim_reactivepwr_A_list[:301])\n",
    "plt.plot(sim_reactivepwr_B_list[:301])\n",
    "plt.plot(sim_reactivepwr_C_list[:301])\n",
    "plt.ylabel('Reactive Power (p.u.)',fontsize = 16)\n",
    "plt.xlabel('Seconds elapsed since 9:00:00',fontsize = 16)\n",
    "plt.title(sim_number + ' Reactive Power from 9:00 AM to 9:05AM', fontsize = 20)\n",
    "plt.gcf().set_size_inches(16, 8)\n",
    "plt.legend(['Phase A', 'Phase B', 'Phase C'], loc='best', prop={'size': 12}) #CHANGE LEGEND LOCATION\n",
    "\n",
    "\n",
    "sim_pdf.savefig()\n",
    "plt.close()\n",
    "#plt.show()"
   ]
  },
  {
   "cell_type": "markdown",
   "metadata": {},
   "source": [
    "## Reactive Power from 12 to 12:05 PM"
   ]
  },
  {
   "cell_type": "code",
   "execution_count": 309,
   "metadata": {
    "collapsed": true
   },
   "outputs": [],
   "source": [
    "plt.plot(sim_reactivepwr_A_list[301:601])\n",
    "plt.plot(sim_reactivepwr_B_list[301:601])\n",
    "plt.plot(sim_reactivepwr_C_list[301:601])\n",
    "plt.ylabel('Reactive Power (p.u.)',fontsize = 16)\n",
    "plt.xlabel('Seconds elapsed since 12:00:00',fontsize = 16)\n",
    "plt.title(sim_number + ' Reactive Power from 12:00 PM to 12:05 PM', fontsize = 20)\n",
    "plt.gcf().set_size_inches(16, 8)\n",
    "plt.legend(['Phase A', 'Phase B', 'Phase C'], loc='best', prop={'size': 12}) #CHANGE LEGEND LOCATION\n",
    "\n",
    "\n",
    "#plt.savefig('ReactivePower_12PM.png', dpi=100)\n",
    "sim_pdf.savefig()\n",
    "plt.close()\n",
    "#plt.show()"
   ]
  },
  {
   "cell_type": "markdown",
   "metadata": {},
   "source": [
    "## Reactive Power from 5 to 5:05 PM"
   ]
  },
  {
   "cell_type": "code",
   "execution_count": 310,
   "metadata": {
    "collapsed": true
   },
   "outputs": [],
   "source": [
    "plt.plot(sim_reactivepwr_A_list[3301:3601])\n",
    "plt.plot(sim_reactivepwr_B_list[3301:3601])\n",
    "plt.plot(sim_reactivepwr_C_list[3301:3601])\n",
    "\n",
    "plt.ylabel('Reactive Power (p.u.)',fontsize = 16)\n",
    "plt.xlabel('Seconds elapsed since 17:00:00',fontsize = 16)\n",
    "plt.title(sim_number + ' Reactive Power from 5:00 PM to 5:05PM', fontsize = 20)\n",
    "plt.gcf().set_size_inches(16, 8)\n",
    "plt.legend(['Phase A', 'Phase B', 'Phase C'], loc='best', prop={'size': 12}) #CHANGE LEGEND LOCATION\n",
    "\n",
    "sim_pdf.savefig()\n",
    "plt.close()\n",
    "#plt.show()"
   ]
  },
  {
   "cell_type": "markdown",
   "metadata": {},
   "source": [
    "### The function below returns the number of times that V_mag went out of bounds (< 0.95 p.u. or > 1.05 p.u.) "
   ]
  },
  {
   "cell_type": "code",
   "execution_count": 341,
   "metadata": {
    "collapsed": true
   },
   "outputs": [],
   "source": [
    "def V_out_of_bounds(vol_A_list,vol_B_list,vol_C_list):\n",
    "    voltages_oob = []\n",
    "    corr_times = []\n",
    "    for i in range(len(vol_A_list)):\n",
    "        if vol_A_list[i] < 0.95 or vol_A_list[i] > 1.05:\n",
    "            voltages_oob.append(vol_A_list[i])\n",
    "            corr_times.append(i)\n",
    "        if vol_B_list[i] < 0.95 or vol_B_list[i] > 1.05:\n",
    "            voltages_oob.append(vol_B_list[i])\n",
    "            corr_times.append(i)\n",
    "        if vol_C_list[i] < 0.95 or vol_C_list[i] > 1.05:\n",
    "            voltages_oob.append(vol_C_list[i]) \n",
    "            corr_times.append(i)\n",
    "    #print(\"Voltage went out of bounds\",len(voltages_oob),\"times.\",\"The corresponding timestamps are:\",'\\n',corr_times)\n",
    "    \n",
    "    return len(corr_times)"
   ]
  },
  {
   "cell_type": "markdown",
   "metadata": {},
   "source": [
    "#### Storing values for the sim:"
   ]
  },
  {
   "cell_type": "code",
   "execution_count": 342,
   "metadata": {
    "collapsed": true,
    "scrolled": true
   },
   "outputs": [],
   "source": [
    "sim_Voob = V_out_of_bounds(sim_vol_A_list,sim_vol_B_list,sim_vol_C_list)"
   ]
  },
  {
   "cell_type": "code",
   "execution_count": 343,
   "metadata": {
    "collapsed": true
   },
   "outputs": [],
   "source": [
    "#function that returns largest deviation from target for Vmag.\n",
    "\n",
    "def max_vmag_deviation(vol_A_list,vol_B_list,vol_C_list,ref_A_list,ref_B_list,ref_C_list):\n",
    "    for i in range(0,len(vol_A_list) // 60):\n",
    "        vmag_maxdev_A = max(abs(x - ref_A_list[i]) for x in vol_A_list)\n",
    "        vmag_maxdev_B = max(abs(x - ref_B_list[i]) for x in vol_B_list)\n",
    "        vmag_maxdev_C = max(abs(x - ref_C_list[i]) for x in vol_C_list)\n",
    "    \n",
    "    return max(vmag_maxdev_A,vmag_maxdev_B,vmag_maxdev_C)"
   ]
  },
  {
   "cell_type": "code",
   "execution_count": 344,
   "metadata": {
    "collapsed": true
   },
   "outputs": [],
   "source": [
    "sim_max_vmag_dev = max_vmag_deviation(sim_vol_A_list,sim_vol_B_list,sim_vol_C_list,sim_vol_A_reflist,sim_vol_B_reflist,sim_vol_C_reflist)"
   ]
  },
  {
   "cell_type": "code",
   "execution_count": 345,
   "metadata": {
    "collapsed": true
   },
   "outputs": [],
   "source": [
    "#function that returns largest deviation from target for Vang.\n",
    "\n",
    "def max_vang_deviation(ang_A_list,ang_B_list,ang_C_list,ref_A_list,ref_B_list,ref_C_list):\n",
    "    for i in range(0,len(ang_A_list) // 60):\n",
    "        vang_maxdev_A = max(abs(x - ref_A_list[i]) for x in ang_A_list)\n",
    "        vang_maxdev_B = max(abs(x - ref_B_list[i]) for x in ang_B_list)\n",
    "        vang_maxdev_C = max(abs(x - ref_C_list[i]) for x in ang_C_list)\n",
    "    \n",
    "    return max(vang_maxdev_A,vang_maxdev_B,vang_maxdev_C)"
   ]
  },
  {
   "cell_type": "code",
   "execution_count": 346,
   "metadata": {
    "collapsed": true
   },
   "outputs": [],
   "source": [
    "sim_max_vang_dev = max_vang_deviation(sim_ang_A_list,sim_ang_B_list,sim_ang_C_list,sim_ang_A_reflist,sim_ang_B_reflist,sim_ang_C_reflist)"
   ]
  },
  {
   "cell_type": "code",
   "execution_count": 347,
   "metadata": {
    "collapsed": true
   },
   "outputs": [],
   "source": [
    "#Function to convert index to timestamp (corresponding to seconds after 9 AM)\n",
    "def realtime(x):\n",
    "    if (x//60) < 10:\n",
    "        if (x%60) < 10:\n",
    "            return '9:' + '0' + str(x//60) + ':' + '0' + str(x%60)\n",
    "        return '9:' + '0' + str(x//60) + ':' + str(x%60)\n",
    "    if (x%60) < 10:\n",
    "        return '9:' + str(x//60) + ':' + '0' + str(x%60)  \n",
    "    return '9:' + str(x//60) + ':' + str(x%60)"
   ]
  },
  {
   "cell_type": "code",
   "execution_count": 348,
   "metadata": {
    "collapsed": true
   },
   "outputs": [],
   "source": [
    "def max_realpower(realpwr_A_list,realpwr_B_list,realpwr_C_list):\n",
    "    A_max = max(realpwr_A_list)\n",
    "    B_max = max(realpwr_B_list)\n",
    "    C_max = max(realpwr_C_list)\n",
    "    maxpower = max(A_max, B_max, C_max)\n",
    "    \n",
    "    if maxpower in realpwr_A_list:\n",
    "        timestamp = realtime(realpwr_A_list.index(maxpower))\n",
    "    elif maxpower in realpwr_B_list:\n",
    "        timestamp = realtime(realpwr_B_list.index(maxpower))\n",
    "    else:\n",
    "        timestamp = realtime(realpwr_C_list.index(maxpower))\n",
    "    maxpower_list = [maxpower,timestamp]\n",
    "    \n",
    "    return maxpower_list"
   ]
  },
  {
   "cell_type": "code",
   "execution_count": 349,
   "metadata": {
    "collapsed": true
   },
   "outputs": [],
   "source": [
    "sim_maxP = max_realpower(sim_realpwr_A_list,sim_realpwr_B_list,sim_realpwr_C_list)"
   ]
  },
  {
   "cell_type": "code",
   "execution_count": 350,
   "metadata": {
    "collapsed": true
   },
   "outputs": [],
   "source": [
    "def max_reactivepower(reactivepwr_A_list,reactivepwr_B_list,reactivepwr_C_list):\n",
    "    A_max = max(reactivepwr_A_list)\n",
    "    B_max = max(reactivepwr_B_list)\n",
    "    C_max = max(reactivepwr_C_list)\n",
    "    maxpower = max(A_max, B_max, C_max)\n",
    "    \n",
    "    if maxpower in reactivepwr_A_list:\n",
    "        timestamp = realtime(reactivepwr_A_list.index(maxpower))\n",
    "    elif maxpower in reactivepwr_B_list:\n",
    "        timestamp = realtime(reactivepwr_B_list.index(maxpower))\n",
    "    else:\n",
    "        timestamp = realtime(reactivepwr_C_list.index(maxpower))\n",
    "    maxpower_list = [maxpower,timestamp]\n",
    "    \n",
    "    return maxpower_list"
   ]
  },
  {
   "cell_type": "code",
   "execution_count": 351,
   "metadata": {
    "collapsed": true
   },
   "outputs": [],
   "source": [
    "sim_maxQ = max_reactivepower(sim_reactivepwr_A_list,sim_reactivepwr_B_list,sim_reactivepwr_C_list)"
   ]
  },
  {
   "cell_type": "code",
   "execution_count": 352,
   "metadata": {},
   "outputs": [
    {
     "data": {
      "text/plain": [
       "'9:01:05'"
      ]
     },
     "execution_count": 352,
     "metadata": {},
     "output_type": "execute_result"
    }
   ],
   "source": [
    "realtime(65)"
   ]
  },
  {
   "cell_type": "code",
   "execution_count": 353,
   "metadata": {
    "collapsed": true
   },
   "outputs": [],
   "source": [
    "def vmag_overshoot(input_list, target_list):\n",
    "    overshoots = []\n",
    "    \n",
    "    for i in range(0,len(input_list) // 60): # there's 60 minutes in this sim, so i =(0,60)\n",
    "        target = target_list[(2*i) + 1]\n",
    "        y_peak = (target_list[(2*i) + 1])\n",
    "        for x in range(60*i,(60*(i+1))): \n",
    "            if input_list[x] > y_peak and input_list[x] > input_list[x+1]:\n",
    "                y_peak = input_list[x]\n",
    "                overshoots.append((100*(y_peak-target)/target)) #OS computed as percentage        \n",
    "    return overshoots\n",
    "\n",
    "#when there is an overshoot, it calculates the value. Often, there isn't an OS."
   ]
  },
  {
   "cell_type": "code",
   "execution_count": 354,
   "metadata": {
    "collapsed": true
   },
   "outputs": [],
   "source": [
    "sim_phaseA_OS = vmag_overshoot(sim_vol_A_list,sim_vol_A_reflist)\n",
    "sim_phaseB_OS = vmag_overshoot(sim_vol_B_list,sim_vol_B_reflist)\n",
    "sim_phaseC_OS = vmag_overshoot(sim_vol_C_list,sim_vol_C_reflist)\n",
    "\n",
    "sim_3phavg_OS = (mean(sim_phaseA_OS), mean(sim_phaseB_OS),mean(sim_phaseC_OS))\n",
    "\n",
    "sim_3phmax_OS = (max(sim_phaseA_OS), max(sim_phaseB_OS),max(sim_phaseC_OS))\n",
    "\n",
    "sim_avg_OS = mean(sim_3phavg_OS)\n",
    "\n",
    "sim_max_OS = max(sim_3phmax_OS)\n",
    "\n"
   ]
  },
  {
   "cell_type": "code",
   "execution_count": 355,
   "metadata": {
    "collapsed": true
   },
   "outputs": [],
   "source": [
    "def test_vmag_overshoot(input_list, target_list):\n",
    "    overshoots = []\n",
    "    for i in range(0,len(input_list) // 5): # there's 60 minutes in this sim, so i =(0,60)\n",
    "        target = target_list[i]\n",
    "        y_peak =  target_list[i]\n",
    "        for x in range(5*i,(5*(i+1))):\n",
    "            if input_list[x]>y_peak and input_list[x] > input_list[x+1]:\n",
    "                y_peak = input_list[x]\n",
    "                overshoots.append(100*(y_peak-target)/target)\n",
    "    return overshoots"
   ]
  },
  {
   "cell_type": "code",
   "execution_count": 356,
   "metadata": {},
   "outputs": [
    {
     "data": {
      "text/plain": [
       "[33.333333333333336, 50.0]"
      ]
     },
     "execution_count": 356,
     "metadata": {},
     "output_type": "execute_result"
    }
   ],
   "source": [
    "testlist = [1,2,4,3,3,3,5,6,2,4]\n",
    "target = [3,4]\n",
    "\n",
    "test_vmag_overshoot(testlist,target)  # want 33.3% and 50%"
   ]
  },
  {
   "cell_type": "markdown",
   "metadata": {},
   "source": [
    "## Angle overshoot (120 degrees used to normalise the 3-phase overshoots)"
   ]
  },
  {
   "cell_type": "code",
   "execution_count": 357,
   "metadata": {
    "collapsed": true
   },
   "outputs": [],
   "source": [
    "def test_vang_overshoot(input_list, target_angle):\n",
    "    ang_overshoots = []\n",
    "\n",
    "    for i in range(0,len(list_X) //10): # there's 60 minutes in this sim, so i =(0,60)\n",
    "        if target_angle == 0:\n",
    "            y_peak = 0\n",
    "            for x in range(10*i,10*(i+1) -2):\n",
    "                if input_list[x] < 0:\n",
    "                    continue\n",
    "                if  (input_list[x]) > (y_peak) and (input_list[x]) > max((input_list[x+1]),(input_list[x+2])):\n",
    "                    y_peak = input_list[x]\n",
    "                    ang_overshoots.append((100*(y_peak-0)/120))\n",
    "    return ang_overshoots                "
   ]
  },
  {
   "cell_type": "code",
   "execution_count": 358,
   "metadata": {},
   "outputs": [
    {
     "data": {
      "text/plain": [
       "[1.6666666666666667, 1.1666666666666667]"
      ]
     },
     "execution_count": 358,
     "metadata": {},
     "output_type": "execute_result"
    }
   ],
   "source": [
    "list_X = [-0.5,-0.4,0,0,1,2,1,1,0,0,1,1.1,1.2,1.3,1.4,1.3,1,0.5,0.4,0.2]\n",
    "answer = test_vang_overshoot(list_X, 0)\n",
    "answer"
   ]
  },
  {
   "cell_type": "code",
   "execution_count": 359,
   "metadata": {
    "collapsed": true
   },
   "outputs": [],
   "source": [
    "def vang_overshoot(input_list, target_angle):\n",
    "    ang_overshoots = []\n",
    "    \n",
    "    for i in range(0,len(input_list) // 60): # there's 60 minutes in this sim, so i =(0,60)\n",
    "        if target_angle == 0:\n",
    "            y_peak = 0\n",
    "            for x in range(60*i,(60*(i+1))-3):\n",
    "                if input_list[x] < 0:\n",
    "                    continue\n",
    "                if  (input_list[x]) > (y_peak) and (input_list[x]) > max((input_list[x+1]),(input_list[x+2]),(input_list[x+3])):\n",
    "                    y_peak = input_list[x]\n",
    "                    ang_overshoots.append((100*(y_peak-0)/120)) #OS computed as percentage \n",
    "              \n",
    "        if target_angle == -120:\n",
    "            y_peak = -120\n",
    "            for x in range(60*i,(60*(i+1))-3):\n",
    "                if input_list[x] > 0:\n",
    "                    continue\n",
    "                if  abs(input_list[x]) > abs(y_peak) and abs(input_list[x]) > max(abs(input_list[x+1]),abs(input_list[x+2]),abs(input_list[x+3])):\n",
    "                    y_peak = input_list[x]\n",
    "                    ang_overshoots.append((100*(-120-y_peak)/120)) \n",
    "                \n",
    "        if target_angle == 120:\n",
    "            y_peak = 120\n",
    "            for x in range(60*i,(60*(i+1))-3):\n",
    "                if input_list[x] < 0:\n",
    "                    continue\n",
    "                if  abs(input_list[x]) > abs(y_peak) and abs(input_list[x]) > max(abs(input_list[x+1]),abs(input_list[x+2]),abs(input_list[x+3])):\n",
    "                    y_peak = input_list[x]\n",
    "                    ang_overshoots.append((100*(y_peak-120)/120))        \n",
    "    \n",
    "\n",
    "    \n",
    "    return ang_overshoots"
   ]
  },
  {
   "cell_type": "code",
   "execution_count": 24,
   "metadata": {},
   "outputs": [
    {
     "ename": "NameError",
     "evalue": "name 'vang_overshoot' is not defined",
     "output_type": "error",
     "traceback": [
      "\u001b[0;31m---------------------------------------------------------------------------\u001b[0m",
      "\u001b[0;31mNameError\u001b[0m                                 Traceback (most recent call last)",
      "\u001b[0;32m<ipython-input-24-6e54980c3b80>\u001b[0m in \u001b[0;36m<module>\u001b[0;34m()\u001b[0m\n\u001b[0;32m----> 1\u001b[0;31m \u001b[0msim_phaseA_ang_OS\u001b[0m \u001b[0;34m=\u001b[0m \u001b[0mvang_overshoot\u001b[0m\u001b[0;34m(\u001b[0m\u001b[0msim_ang_A_list\u001b[0m\u001b[0;34m,\u001b[0m\u001b[0;36m0\u001b[0m\u001b[0;34m)\u001b[0m\u001b[0;34m\u001b[0m\u001b[0m\n\u001b[0m\u001b[1;32m      2\u001b[0m \u001b[0msim_phaseB_ang_OS\u001b[0m \u001b[0;34m=\u001b[0m \u001b[0mvang_overshoot\u001b[0m\u001b[0;34m(\u001b[0m\u001b[0msim_ang_B_list\u001b[0m\u001b[0;34m,\u001b[0m\u001b[0;34m-\u001b[0m\u001b[0;36m120\u001b[0m\u001b[0;34m)\u001b[0m\u001b[0;34m\u001b[0m\u001b[0m\n\u001b[1;32m      3\u001b[0m \u001b[0msim_phaseC_ang_OS\u001b[0m \u001b[0;34m=\u001b[0m \u001b[0mvang_overshoot\u001b[0m\u001b[0;34m(\u001b[0m\u001b[0msim_ang_C_list\u001b[0m\u001b[0;34m,\u001b[0m\u001b[0;36m120\u001b[0m\u001b[0;34m)\u001b[0m\u001b[0;34m\u001b[0m\u001b[0m\n\u001b[1;32m      4\u001b[0m \u001b[0;34m\u001b[0m\u001b[0m\n\u001b[1;32m      5\u001b[0m \u001b[0msim_3phavg_ang_OS\u001b[0m \u001b[0;34m=\u001b[0m \u001b[0;34m(\u001b[0m\u001b[0mmean\u001b[0m\u001b[0;34m(\u001b[0m\u001b[0msim_phaseA_ang_OS\u001b[0m\u001b[0;34m)\u001b[0m\u001b[0;34m,\u001b[0m \u001b[0mmean\u001b[0m\u001b[0;34m(\u001b[0m\u001b[0msim_phaseB_ang_OS\u001b[0m\u001b[0;34m)\u001b[0m\u001b[0;34m,\u001b[0m\u001b[0mmean\u001b[0m\u001b[0;34m(\u001b[0m\u001b[0msim_phaseC_ang_OS\u001b[0m\u001b[0;34m)\u001b[0m\u001b[0;34m)\u001b[0m\u001b[0;34m\u001b[0m\u001b[0m\n",
      "\u001b[0;31mNameError\u001b[0m: name 'vang_overshoot' is not defined"
     ]
    }
   ],
   "source": [
    "sim_phaseA_ang_OS = vang_overshoot(sim_ang_A_list,0)\n",
    "sim_phaseB_ang_OS = vang_overshoot(sim_ang_B_list,-120)\n",
    "sim_phaseC_ang_OS = vang_overshoot(sim_ang_C_list,120)\n",
    "\n",
    "sim_3phavg_ang_OS = (mean(sim_phaseA_ang_OS), mean(sim_phaseB_ang_OS),mean(sim_phaseC_ang_OS))\n",
    "\n",
    "sim_3phmax_ang_OS = (max(sim_phaseA_ang_OS), max(sim_phaseB_ang_OS),max(sim_phaseC_ang_OS))\n",
    "\n",
    "sim_avg_ang_OS = mean(sim_3phavg_ang_OS)\n",
    "\n",
    "sim_max_ang_OS = max(sim_3phmax_ang_OS)"
   ]
  },
  {
   "cell_type": "markdown",
   "metadata": {},
   "source": [
    "## Undershoot Computation"
   ]
  },
  {
   "cell_type": "code",
   "execution_count": 361,
   "metadata": {
    "collapsed": true
   },
   "outputs": [],
   "source": [
    "def vmag_undershoot(input_list, target_list):\n",
    "    undershoots = []\n",
    "    for i in range(0,len(input_list) // 60): # there's 60 minutes in this sim, so i =(0,60)\n",
    "        target = target_list[(2*i) + 1]\n",
    "        y_peak = (target_list[(2*i) + 1])\n",
    "        for x in range(60*i,(60*(i+1))): \n",
    "            if target_list[(2*i) + 1] > target_list[(2*i) + 2]:\n",
    "                if input_list[x] < input_list[x+1] and input_list[x+1] < input_list[x+2]:\n",
    "                    y_peak = input_list[x+2]\n",
    "                    undershoots.append((100*(abs(y_peak-target))/target))\n",
    "            if target_list[(2*i) + 1] < target_list[(2*i) + 2]:\n",
    "                if input_list[x] > input_list[x+1] and input_list[x+1] > input_list[x+2]:\n",
    "                    y_peak = input_list[x]\n",
    "                    undershoots.append((100*(y_peak-target)/target)) \n",
    "            \n",
    "        if undershoots == []:\n",
    "            undershoots = [0]\n",
    "    return undershoots"
   ]
  },
  {
   "cell_type": "code",
   "execution_count": 362,
   "metadata": {
    "collapsed": true
   },
   "outputs": [],
   "source": [
    "sim_phaseA_US = vmag_undershoot(sim_vol_A_list,sim_vol_A_reflist)\n",
    "sim_phaseB_US = vmag_undershoot(sim_vol_B_list,sim_vol_B_reflist)\n",
    "sim_phaseC_US = vmag_undershoot(sim_vol_C_list,sim_vol_C_reflist)\n",
    "\n",
    "sim_3phavg_US = (mean(sim_phaseA_US), mean(sim_phaseB_US),mean(sim_phaseC_US))\n",
    "\n",
    "sim_3phmax_US = (max(sim_phaseA_US), max(sim_phaseB_US),max(sim_phaseC_US))\n",
    "\n",
    "sim_avg_US = mean(sim_3phavg_US)\n",
    "\n",
    "sim_max_US = max(sim_3phmax_US)"
   ]
  },
  {
   "cell_type": "markdown",
   "metadata": {},
   "source": [
    "## Settling Time Computation"
   ]
  },
  {
   "cell_type": "code",
   "execution_count": 363,
   "metadata": {
    "collapsed": true
   },
   "outputs": [],
   "source": [
    "def vmag_settling_time(input_list,target_list):\n",
    "    settling_times = [None]*(len(target_list) // 2)\n",
    "\n",
    "        #if voltage at i is within 2% range and voltage at i+1 is within range ,settling time = start of the minute\n",
    "        # + i. else, keep going. else, return 60\n",
    "    for i in range(0,len(input_list) // 60): # there's 60 minutes in this sim, so i =(0,60)\n",
    "        counter = 1\n",
    "        target = target_list[(2*i)+1]\n",
    "        #print(target)\n",
    "        for x in range(60*i,(60*(i+1))-3):\n",
    "            if input_list[x]>=0.98*target and input_list[x]<=1.02*target and input_list[x+1]>=0.98*target and input_list[x+1]<=1.02*target and input_list[x+2]>=0.98*target and input_list[x+2]<=1.02*target and input_list[x+3]>=0.98*target and input_list[x+3]<=1.02*target and input_list[x+4]>=0.98*target and input_list[x+4]<=1.02*target:\n",
    "                    settling_times[i] = counter\n",
    "            else:\n",
    "                counter += 1\n",
    "        if settling_times[i] == None:\n",
    "            settling_times[i] = 60\n",
    "    \n",
    "    return settling_times "
   ]
  },
  {
   "cell_type": "code",
   "execution_count": 364,
   "metadata": {
    "collapsed": true
   },
   "outputs": [],
   "source": [
    "sim_phaseA_st = vmag_settling_time(sim_vol_A_list,sim_vol_A_reflist)\n",
    "sim_phaseB_st = vmag_settling_time(sim_vol_B_list,sim_vol_B_reflist)\n",
    "sim_phaseC_st = vmag_settling_time(sim_vol_C_list,sim_vol_C_reflist)\n",
    "\n",
    "sim_3phavg_st = (mean(sim_phaseA_st), mean(sim_phaseB_st),mean(sim_phaseC_st))\n",
    "\n",
    "\n",
    "sim_3phlongest_st = (max(sim_phaseA_st), max(sim_phaseB_st),max(sim_phaseC_st))\n",
    "\n",
    "sim_avg_st = mean(sim_3phavg_st)\n",
    "\n",
    "\n",
    "sim_longest_st = max(sim_3phlongest_st)"
   ]
  },
  {
   "cell_type": "code",
   "execution_count": 365,
   "metadata": {
    "collapsed": true
   },
   "outputs": [],
   "source": [
    "def testvmag_settling_time(): #should return [4,2,5]\n",
    "    \n",
    "    test_list = [103,102,109,100,100,210,202,200,200,199,1,2,3,15,2] \n",
    "    ref_list = [100,200,100]\n",
    "    settling_times = [None]*len(ref_list)\n",
    "    #\n",
    "    for i in range(0,len(test_list) // 5): # i = 0,1\n",
    "        counter = 1\n",
    "        target = ref_list[i] #target = 100 for i = 0\n",
    "        for x in range(5*i,(5*(i+1))-1):\n",
    "            if test_list[x]>=0.98*target and test_list[x]<=1.02*target and test_list[x+1]>=0.98*target and test_list[x+1]<=1.02*target:\n",
    "                    settling_times[i] = (counter)\n",
    "            else:\n",
    "                counter += 1\n",
    "        if settling_times[i] == None:\n",
    "            settling_times[i] = 5 # change to 60 in actual\n",
    "    return settling_times  "
   ]
  },
  {
   "cell_type": "code",
   "execution_count": 366,
   "metadata": {},
   "outputs": [
    {
     "data": {
      "text/plain": [
       "[4, 2, 5]"
      ]
     },
     "execution_count": 366,
     "metadata": {},
     "output_type": "execute_result"
    }
   ],
   "source": [
    "testvmag_settling_time()"
   ]
  },
  {
   "cell_type": "code",
   "execution_count": 367,
   "metadata": {
    "collapsed": true
   },
   "outputs": [],
   "source": [
    "def vang_settling_time(input_list,target_list):\n",
    "    settling_times = [None]*(len(target_list) // 2)\n",
    "\n",
    "    for i in range(0,len(input_list) // 60):\n",
    "        counter = 1\n",
    "        target = target_list[(2*i)+1]\n",
    "        for x in range(60*i,(60*(i+1))-2):\n",
    "            if abs(input_list[x])>=0.98*abs(target) and abs(input_list[x])<=1.02*abs(target) and abs(input_list[x+1])>=0.98*abs(target) and abs(input_list[x+1])<=1.02*abs(target) and abs(input_list[x+2])>=0.98*abs(target) and abs(input_list[x+2])<=1.02*abs(target) and abs(input_list[x+3])>=0.98*abs(target) and abs(input_list[x+3])<=1.02*abs(target):\n",
    "                    settling_times[i] = counter\n",
    "            else:\n",
    "                counter += 1\n",
    "        if settling_times[i] == None:\n",
    "            settling_times[i] = 60\n",
    "    \n",
    "    return settling_times "
   ]
  },
  {
   "cell_type": "code",
   "execution_count": 368,
   "metadata": {
    "collapsed": true
   },
   "outputs": [],
   "source": [
    "sim_phaseA_ang_st = vang_settling_time(sim_ang_A_list,sim_ang_A_reflist)\n",
    "sim_phaseB_ang_st = vang_settling_time(sim_ang_B_list,sim_ang_B_reflist)\n",
    "sim_phaseC_ang_st = vang_settling_time(sim_ang_C_list,sim_ang_C_reflist)\n",
    "\n",
    "sim_3phavg_ang_st = (mean(sim_phaseA_ang_st), mean(sim_phaseB_ang_st),mean(sim_phaseC_ang_st))\n",
    "\n",
    "sim_3phlongest_ang_st = (max(sim_phaseA_ang_st), max(sim_phaseB_ang_st),max(sim_phaseC_ang_st))\n",
    "\n",
    "sim_avg_ang_st = mean(sim_3phavg_ang_st)\n",
    "\n",
    "sim_longest_ang_st = max(sim_3phlongest_ang_st)"
   ]
  },
  {
   "cell_type": "code",
   "execution_count": 374,
   "metadata": {
    "collapsed": true
   },
   "outputs": [],
   "source": [
    "def trans_violations(): #single number needed!!\n",
    "        time_counter = 0\n",
    "        OS_counter = 0\n",
    "        US_counter = 0\n",
    "        violation_counter = 0\n",
    "        super_st_list = sim_phaseA_st + sim_phaseB_st + sim_phaseC_st + sim_phaseA_ang_st + sim_phaseB_ang_st + sim_phaseC_ang_st\n",
    "        super_OS_list = sim_phaseA_OS + sim_phaseB_OS + sim_phaseC_OS + sim_phaseA_ang_OS + sim_phaseB_ang_OS + sim_phaseC_ang_OS\n",
    "        super_US_list = sim_phaseA_US + sim_phaseB_US + sim_phaseC_US\n",
    "        #print(len(super_st_list),len(super_OS_list))\n",
    "        for x in range(0,len(super_st_list)):\n",
    "            if super_st_list[x] > 10:\n",
    "                violation_counter \n",
    "        \n",
    "        \n",
    "        for time in super_st_list:\n",
    "            if time > 10:\n",
    "                time_counter +=1\n",
    "        for percent in super_OS_list:\n",
    "            if percent > 5:\n",
    "                OS_counter +=1\n",
    "        for percent in super_US_list:\n",
    "            if percent > 6:\n",
    "                US_counter +=1            \n",
    "        return max(time_counter,OS_counter,US_counter)          "
   ]
  },
  {
   "cell_type": "code",
   "execution_count": 375,
   "metadata": {
    "collapsed": true
   },
   "outputs": [],
   "source": [
    "sim_violation = trans_violations()"
   ]
  },
  {
   "cell_type": "code",
   "execution_count": 376,
   "metadata": {},
   "outputs": [
    {
     "data": {
      "text/html": [
       "<div>\n",
       "<style>\n",
       "    .dataframe thead tr:only-child th {\n",
       "        text-align: right;\n",
       "    }\n",
       "\n",
       "    .dataframe thead th {\n",
       "        text-align: left;\n",
       "    }\n",
       "\n",
       "    .dataframe tbody tr th {\n",
       "        vertical-align: top;\n",
       "    }\n",
       "</style>\n",
       "<table border=\"1\" class=\"dataframe\">\n",
       "  <thead>\n",
       "    <tr style=\"text-align: right;\">\n",
       "      <th></th>\n",
       "      <th>Sim Number</th>\n",
       "      <th>Times when V out of bounds</th>\n",
       "      <th>Largest V_mag deviation (p.u.)</th>\n",
       "      <th>Largest V_ang deviation (deg)</th>\n",
       "      <th>Largest V_mag OS (%)</th>\n",
       "      <th>Largest V_ang OS (%)</th>\n",
       "      <th>Average V_mag OS (%)</th>\n",
       "      <th>Average V_ang OS (%)</th>\n",
       "      <th>Largest V_mag settling time (s)</th>\n",
       "      <th>Largest V_ang settling time (s)</th>\n",
       "      <th>Average V_mag settling time (s)</th>\n",
       "      <th>Average V_ang settling time (s)</th>\n",
       "      <th>Largest P (p.u.) and timestamp</th>\n",
       "      <th>Largest Q (p.u.) and timestamp</th>\n",
       "      <th>No. of transient requirement violations (settling time, OS, US)</th>\n",
       "    </tr>\n",
       "  </thead>\n",
       "  <tbody>\n",
       "    <tr>\n",
       "      <th></th>\n",
       "      <td>1</td>\n",
       "      <td>131</td>\n",
       "      <td>0.102514</td>\n",
       "      <td>8.836919</td>\n",
       "      <td>9.352251</td>\n",
       "      <td>4.656985</td>\n",
       "      <td>2.108892</td>\n",
       "      <td>2.21777</td>\n",
       "      <td>10</td>\n",
       "      <td>48</td>\n",
       "      <td>3.338889</td>\n",
       "      <td>11.822222</td>\n",
       "      <td>[1.91976234778, 9:06:00]</td>\n",
       "      <td>[1.47981779891, 9:22:00]</td>\n",
       "      <td>58</td>\n",
       "    </tr>\n",
       "  </tbody>\n",
       "</table>\n",
       "</div>"
      ],
      "text/plain": [
       " Sim Number  Times when V out of bounds  Largest V_mag deviation (p.u.)  \\\n",
       "          1                         131                        0.102514   \n",
       "\n",
       "  Largest V_ang deviation (deg)  Largest V_mag OS (%)  Largest V_ang OS (%)  \\\n",
       "                       8.836919              9.352251              4.656985   \n",
       "\n",
       "  Average V_mag OS (%)  Average V_ang OS (%)  Largest V_mag settling time (s)  \\\n",
       "              2.108892               2.21777                               10   \n",
       "\n",
       "  Largest V_ang settling time (s)  Average V_mag settling time (s)  \\\n",
       "                               48                         3.338889   \n",
       "\n",
       "  Average V_ang settling time (s) Largest P (p.u.) and timestamp  \\\n",
       "                        11.822222       [1.91976234778, 9:06:00]   \n",
       "\n",
       " Largest Q (p.u.) and timestamp  \\\n",
       "       [1.47981779891, 9:22:00]   \n",
       "\n",
       "  No. of transient requirement violations (settling time, OS, US)  \n",
       "                                                 58                "
      ]
     },
     "execution_count": 376,
     "metadata": {},
     "output_type": "execute_result"
    }
   ],
   "source": [
    "params = {'Sim Number': [test_number],\n",
    "        'Times when V out of bounds': [sim_Voob],\n",
    "        'Largest V_mag deviation (p.u.)': [sim_max_vmag_dev],\n",
    "        'Largest V_ang deviation (deg)': [sim_max_vang_dev],\n",
    "        'Largest V_mag OS (%)': [sim_max_OS],\n",
    "        'Largest V_ang OS (%)': [sim_max_ang_OS],\n",
    "        'Average V_mag OS (%)': [sim_avg_OS],\n",
    "        'Average V_ang OS (%)': [sim_avg_ang_OS],\n",
    "        'Largest V_mag settling time (s)': [sim_longest_st],\n",
    "        'Largest V_ang settling time (s)': [sim_longest_ang_st],\n",
    "        'Average V_mag settling time (s)': [sim_avg_st],\n",
    "        'Average V_ang settling time (s)': [sim_avg_ang_st],\n",
    "        'Largest P (p.u.) and timestamp': [sim_maxP],\n",
    "        'Largest Q (p.u.) and timestamp': [sim_maxQ],\n",
    "        'No. of transient requirement violations (settling time, OS, US)': [sim_violation],  #settling time of >10s, undershoot of >6%, and >3% overshoot\n",
    "          \n",
    "         }\n",
    "results = pd.DataFrame(params, \n",
    "                       columns = ['Sim Number','Times when V out of bounds','Largest V_mag deviation (p.u.)', 'Largest V_ang deviation (deg)',\n",
    "                                          'Largest V_mag OS (%)','Largest V_ang OS (%)','Average V_mag OS (%)','Average V_ang OS (%)',\n",
    "                                          'Largest V_mag settling time (s)','Largest V_ang settling time (s)','Average V_mag settling time (s)',\n",
    "                                          'Average V_ang settling time (s)','Largest P (p.u.) and timestamp','Largest Q (p.u.) and timestamp',\n",
    "                                 'No. of transient requirement violations (settling time, OS, US)'])\n",
    "results.rename(index={0:''},inplace=True)\n",
    "results "
   ]
  },
  {
   "cell_type": "markdown",
   "metadata": {},
   "source": [
    "###  If you're happy with what you see in the cell above, run the code block below."
   ]
  },
  {
   "cell_type": "code",
   "execution_count": 377,
   "metadata": {
    "collapsed": true
   },
   "outputs": [],
   "source": [
    "results.to_csv('test_results.csv', mode='a') \n",
    "with open('test_results.csv') as f:\n",
    "    data = list(csv.reader(f))\n",
    "    new_data = [a for i, a in enumerate(data) if a not in data[:i]]\n",
    "    with open('test_results.csv', 'w') as t:\n",
    "        write = csv.writer(t)\n",
    "        write.writerows(new_data)"
   ]
  }
 ],
 "metadata": {
  "kernelspec": {
   "display_name": "Python 3",
   "language": "python",
   "name": "python3"
  },
  "language_info": {
   "codemirror_mode": {
    "name": "ipython",
    "version": 3
   },
   "file_extension": ".py",
   "mimetype": "text/x-python",
   "name": "python",
   "nbconvert_exporter": "python",
   "pygments_lexer": "ipython3",
   "version": "3.6.3"
  }
 },
 "nbformat": 4,
 "nbformat_minor": 2
}
